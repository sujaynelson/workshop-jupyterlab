{
 "cells": [
  {
   "cell_type": "markdown",
   "metadata": {
    "colab_type": "text",
    "id": "r5NqxWEMAOh3"
   },
   "source": [
    "# Cell Drag/Drop Demo: Sort Me Out!"
   ]
  },
  {
   "cell_type": "markdown",
   "metadata": {
    "colab_type": "text",
    "id": "6NMAwWJ1Aeln"
   },
   "source": [
    "### 2. Display Demo Group By function"
   ]
  },
  {
   "cell_type": "code",
   "execution_count": 1,
   "metadata": {
    "colab": {
     "autoexec": {
      "startup": false,
      "wait_interval": 0
     }
    },
    "colab_type": "code",
    "id": "iXAVUQJ58n5P"
   },
   "outputs": [
    {
     "ename": "NameError",
     "evalue": "name 'df' is not defined",
     "output_type": "error",
     "traceback": [
      "\u001b[0;31m---------------------------------------------------------------------------\u001b[0m",
      "\u001b[0;31mNameError\u001b[0m                                 Traceback (most recent call last)",
      "\u001b[0;32m<ipython-input-1-56698173ef44>\u001b[0m in \u001b[0;36m<module>\u001b[0;34m()\u001b[0m\n\u001b[0;32m----> 1\u001b[0;31m \u001b[0mdf2\u001b[0m \u001b[0;34m=\u001b[0m \u001b[0mdf\u001b[0m\u001b[0;34m.\u001b[0m\u001b[0mgroupby\u001b[0m\u001b[0;34m(\u001b[0m\u001b[0;34m[\u001b[0m\u001b[0;34m'type_of_donation'\u001b[0m\u001b[0;34m,\u001b[0m\u001b[0;34m'year'\u001b[0m\u001b[0;34m]\u001b[0m\u001b[0;34m)\u001b[0m\u001b[0;34m[\u001b[0m\u001b[0;34m'count'\u001b[0m\u001b[0;34m]\u001b[0m\u001b[0;34m.\u001b[0m\u001b[0msum\u001b[0m\u001b[0;34m(\u001b[0m\u001b[0;34m)\u001b[0m\u001b[0;34m\u001b[0m\u001b[0m\n\u001b[0m\u001b[1;32m      2\u001b[0m \u001b[0mdf2\u001b[0m\u001b[0;34m\u001b[0m\u001b[0m\n",
      "\u001b[0;31mNameError\u001b[0m: name 'df' is not defined"
     ]
    }
   ],
   "source": [
    "df2 = df.groupby(['type_of_donation','year'])['count'].sum()\n",
    "df2"
   ]
  },
  {
   "cell_type": "markdown",
   "metadata": {
    "colab_type": "text",
    "id": "2MCH1kc7AnPm"
   },
   "source": [
    "### 3. Setup Plotly"
   ]
  },
  {
   "cell_type": "code",
   "execution_count": null,
   "metadata": {
    "colab": {
     "autoexec": {
      "startup": false,
      "wait_interval": 0
     }
    },
    "colab_type": "code",
    "id": "0jJ0if733vbr"
   },
   "outputs": [],
   "source": [
    "from plotly.offline import download_plotlyjs, init_notebook_mode, plot, iplot\n",
    "import plotly.graph_objs as go"
   ]
  },
  {
   "cell_type": "markdown",
   "metadata": {
    "colab_type": "text",
    "id": "PCXmQt7cAtW_"
   },
   "source": [
    "### 4. Display Stacked Bar Chart"
   ]
  },
  {
   "cell_type": "code",
   "execution_count": null,
   "metadata": {
    "colab": {
     "autoexec": {
      "startup": false,
      "wait_interval": 0
     }
    },
    "colab_type": "code",
    "id": "9TiA7AcF6ClT"
   },
   "outputs": [],
   "source": [
    "trace1 = go.Bar(\n",
    "  x = df[df.type_of_donation==\"Whole Blood\"]['year'],\n",
    "  y = df[df.type_of_donation==\"Whole Blood\"]['count'],\n",
    "  name = \"Whole Blood\"\n",
    ")\n",
    "\n",
    "trace2 = go.Bar(\n",
    "  x = df[df.type_of_donation==\"Apheresis\"]['year'],\n",
    "  y = df[df.type_of_donation==\"Apheresis\"]['count'],\n",
    "  name = \"Apheresis\"\n",
    ")\n",
    "\n",
    "fig_data=[trace1, trace2]\n",
    "\n",
    "layout = go.Layout(\n",
    "    barmode='stack',\n",
    "    xaxis= go.XAxis(title=\"Year\"),\n",
    "    yaxis= go.YAxis(title=\"Donation Count\")\n",
    ")\n",
    "\n",
    "fig = go.Figure(data=fig_data, layout=layout)\n",
    "\n",
    "init_notebook_mode(connected=True)\n",
    "iplot(fig, filename='stacked-bar')"
   ]
  },
  {
   "cell_type": "markdown",
   "metadata": {
    "colab_type": "text",
    "id": "jgSxVyO7AWBo"
   },
   "source": [
    "### 1. Get Data"
   ]
  },
  {
   "cell_type": "code",
   "execution_count": null,
   "metadata": {
    "cellView": "code",
    "colab": {
     "autoexec": {
      "startup": false,
      "wait_interval": 0
     }
    },
    "colab_type": "code",
    "id": "jzlqMglhzbM1"
   },
   "outputs": [],
   "source": [
    "# Get data from json file (originally from data.gov.sg)\n",
    "import pandas as pd\n",
    "import json\n",
    "\n",
    "data = json.load(open('blood_donation.json'))\n",
    "df = pd.DataFrame.from_records(data['result']['records'])\n",
    "df"
   ]
  }
 ],
 "metadata": {
  "colab": {
   "default_view": {},
   "name": "Python Demo.ipynb",
   "provenance": [],
   "version": "0.3.2",
   "views": {}
  },
  "kernelspec": {
   "display_name": "Python 3",
   "language": "python",
   "name": "python3"
  },
  "language_info": {
   "codemirror_mode": {
    "name": "ipython",
    "version": 3
   },
   "file_extension": ".py",
   "mimetype": "text/x-python",
   "name": "python",
   "nbconvert_exporter": "python",
   "pygments_lexer": "ipython3",
   "version": "3.6.4"
  }
 },
 "nbformat": 4,
 "nbformat_minor": 2
}
